{
 "cells": [
  {
   "cell_type": "markdown",
   "metadata": {},
   "source": [
    "##### Here we will follow various queries to show the sales compariosn on the Sales of beauty Products\n",
    "\n",
    "Queries:-\n",
    "1) Which Gender contributes more in the sales of the product\n",
    "2) Which Gender Buyed more in values\n",
    "3) Which Gender buyed more or less product in season of summer and winters\n",
    "4) Which Customer Buyed most product in quantity and Quantity and which gender it belongs\n",
    "5) Which Gender means fall in the purchasing higher amount product in values "
   ]
  },
  {
   "cell_type": "code",
   "execution_count": null,
   "metadata": {},
   "outputs": [],
   "source": []
  }
 ],
 "metadata": {
  "language_info": {
   "name": "python"
  }
 },
 "nbformat": 4,
 "nbformat_minor": 2
}
